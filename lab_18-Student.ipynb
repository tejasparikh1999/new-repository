{
 "cells": [
  {
   "cell_type": "markdown",
   "metadata": {},
   "source": [
    "# Name : Tejas Parikh"
   ]
  },
  {
   "cell_type": "markdown",
   "metadata": {},
   "source": [
    "# Enrollment No. :E18CSE189"
   ]
  },
  {
   "cell_type": "markdown",
   "metadata": {},
   "source": [
    "# Lab on : Object Oriented Programming"
   ]
  },
  {
   "cell_type": "markdown",
   "metadata": {},
   "source": [
    "### Creating class"
   ]
  },
  {
   "cell_type": "code",
   "execution_count": 1,
   "metadata": {
    "scrolled": true
   },
   "outputs": [
    {
     "name": "stdout",
     "output_type": "stream",
     "text": [
      "<__main__.Employee object at 0x106f20940>\n"
     ]
    }
   ],
   "source": [
    "class Employee:  #Define a class\n",
    "     pass  #body of class may contain attribute, methods, statements\n",
    "e1 = Employee()   ##creating object or instance of a class\n",
    "print(e1)  #printing e1 will show the addrees of memory where object is stored"
   ]
  },
  {
   "cell_type": "markdown",
   "metadata": {},
   "source": [
    "### 1 Write a program to create a \"Demo\" class and print message \"Introdution of Object Oriented Programming Concept\" and print the address of created object."
   ]
  },
  {
   "cell_type": "code",
   "execution_count": 5,
   "metadata": {},
   "outputs": [
    {
     "name": "stdout",
     "output_type": "stream",
     "text": [
      "<__main__.Demo object at 0x106f66c88>\n"
     ]
    }
   ],
   "source": [
    "class Demo: \n",
    "     pass  \n",
    "d = Demo()   \n",
    "print(d)"
   ]
  },
  {
   "cell_type": "markdown",
   "metadata": {},
   "source": [
    "### Instance attribute and  __init__() Function"
   ]
  },
  {
   "cell_type": "markdown",
   "metadata": {},
   "source": [
    "- Instance attributes are object-specific attributes defined as parameters to the __init__ method. \n",
    "- Each object can has different values for themselves.\n",
    "- All classes have a function called __init__(), which is always executed when the class is being initiated.\n",
    "- Use the __init__() function to assign values to object properties, or other operations that are necessary to do when the object is being created\n",
    "- It is like constructor which is used to initialize the instance variable of a class"
   ]
  },
  {
   "cell_type": "code",
   "execution_count": 8,
   "metadata": {},
   "outputs": [
    {
     "name": "stdout",
     "output_type": "stream",
     "text": [
      "Veer 25\n"
     ]
    }
   ],
   "source": [
    "class Employee:\n",
    "    def __init__(self, name, age):\n",
    "        self._name = name\n",
    "        self._age = age\n",
    "    \n",
    "    def access_detail(self):\n",
    "        print(self._name,self._age)\n",
    "        \n",
    "e1 = Employee(\"Veer\", 25)\n",
    "e1.access_detail()"
   ]
  },
  {
   "cell_type": "markdown",
   "metadata": {},
   "source": [
    "### 2 Write a program to create class \"Person\" with name and age attributes and show method to show the details. Create three objects of this class and show their details."
   ]
  },
  {
   "cell_type": "code",
   "execution_count": 12,
   "metadata": {
    "scrolled": true
   },
   "outputs": [
    {
     "name": "stdout",
     "output_type": "stream",
     "text": [
      "Veer 25\n",
      "tg 18\n",
      "vg 17\n"
     ]
    }
   ],
   "source": [
    "#write your code here\n",
    "class Person:\n",
    "    def __init__(self, name, age):\n",
    "        self._name = name\n",
    "        self._age = age\n",
    "    \n",
    "    def access_detail(self):\n",
    "        print(self._name,self._age)\n",
    "        \n",
    "e4 = Person(\"Veer\", 25)\n",
    "e4.access_detail()\n",
    "e2 = Person(\"tg\", 18)\n",
    "e2.access_detail()\n",
    "e3 = Person(\"vg\",17)\n",
    "e3.access_detail()\n",
    "    \n",
    "    \n",
    "        \n",
    "    "
   ]
  },
  {
   "cell_type": "markdown",
   "metadata": {},
   "source": [
    "#### 3 Write a program for following:\n",
    "- Create a class Book with title and author attribute and bookinfo method that shows the details of book.\n",
    "- create three object for three book's detail and show their details "
   ]
  },
  {
   "cell_type": "code",
   "execution_count": 19,
   "metadata": {
    "scrolled": true
   },
   "outputs": [
    {
     "name": "stdout",
     "output_type": "stream",
     "text": [
      "Harry Potter JK Rowling\n",
      "Digital Fortress Dan Brown\n",
      "Alchemist Paulo Coelho\n"
     ]
    }
   ],
   "source": [
    "#write your code here\n",
    "class Book:\n",
    "    def __init__(self, title, author):\n",
    "        self._title = title\n",
    "        self._author = author\n",
    "    \n",
    "    def access_detail(self):\n",
    "        print(self._title,self._author)\n",
    "        \n",
    "e4 = Book(\"Harry Potter\",\"JK Rowling\")\n",
    "e4.access_detail()\n",
    "e2 = Book(\"Digital Fortress\",\"Dan Brown\")\n",
    "e2.access_detail()\n",
    "e3 = Book(\"Alchemist\",\"Paulo Coelho\")\n",
    "e3.access_detail()\n"
   ]
  },
  {
   "cell_type": "markdown",
   "metadata": {},
   "source": [
    "### Creating class with methods\n",
    "- self-parameter is used in the implementation of method of a class.\n",
    "- self-parameter is not used when we call that method\n",
    "- self-parameter references the object of itself\n",
    "- self is used to access the class variable of current object within the class method\n",
    "- self is used within the method to call another method of same class"
   ]
  },
  {
   "cell_type": "code",
   "execution_count": 18,
   "metadata": {},
   "outputs": [
    {
     "name": "stdout",
     "output_type": "stream",
     "text": [
      "Priyanka\n",
      "20\n",
      "Rohan\n",
      "20\n",
      "Rohan\n",
      "25\n"
     ]
    }
   ],
   "source": [
    "class Employee:\n",
    "    def __init__(self,name,age):\n",
    "        self._name=name\n",
    "        self._age=age\n",
    "    def access_detail(self):\n",
    "        print(self._name)\n",
    "        print(self._age)\n",
    "    \n",
    "    def change_name(self, new_name): # note that the first argument is self\n",
    "        self._name = new_name # access the class attribute with the self keyword\n",
    "        self.access_detail()  # access the another method of class with the self keyword\n",
    "    \n",
    "    def change_age(self, new_age): \n",
    "        self._age = new_age \n",
    "        self.access_detail()\n",
    "\n",
    "e1=Employee(\"Priyanka\",20)  \n",
    "e1.access_detail()\n",
    "e1.change_name(\"Rohan\")\n",
    "e1.change_age(25)\n"
   ]
  },
  {
   "cell_type": "markdown",
   "metadata": {},
   "source": [
    "### 4 Write a program to do following:-\n",
    "  - Create a class \"Rectangle\"\n",
    "  - Class has attributes: \"length\" and \"width\"\n",
    "  - Class has method \"calculate_area\" with parameters length and width and returns area of rectangle\n",
    "  - Create one object of class\n",
    "  - Display the values of length and width\n",
    "  - Display the area of rectangle\n",
    "  - change the values of length and width of that object\n",
    "  - Again Display the values of length and width\n",
    "  - Again Display the area of rectangle"
   ]
  },
  {
   "cell_type": "code",
   "execution_count": 21,
   "metadata": {},
   "outputs": [
    {
     "name": "stdout",
     "output_type": "stream",
     "text": [
      "Length = 10\n",
      "Width = 10\n",
      "Area = 100\n",
      "\n",
      "After change:\n",
      "Length = 12\n",
      "Width = 12\n",
      "Area = 144\n"
     ]
    }
   ],
   "source": [
    "#write your code here\n",
    "class Rectange:\n",
    "    def __init__(self,l,b):\n",
    "        self._l=l\n",
    "        self._b=b\n",
    "    def printt(self):\n",
    "        print(\"Length =\",self._l)\n",
    "        print(\"Width =\",self._b)\n",
    "    def calcu(self):    \n",
    "        print(\"Area =\",self._l*self._b)\n",
    "    def change_values(self,l1,b1):\n",
    "        self._l=l1\n",
    "        self._b=b1\n",
    "        print(\"\\nAfter change:\")\n",
    "        self.printt()\n",
    "        self.calcu()\n",
    "r1=Rectange(10,10)\n",
    "r1.printt()\n",
    "r1.calcu()\n",
    "r1.change_values(12,12)\n"
   ]
  },
  {
   "cell_type": "markdown",
   "metadata": {},
   "source": [
    "### 5 Write a program to cleate two empty classes A and B and create their objects then Check the membership of an object using isinstanceof() method.\n",
    "isinstance(object_name,class_name)"
   ]
  },
  {
   "cell_type": "code",
   "execution_count": 23,
   "metadata": {},
   "outputs": [
    {
     "name": "stdout",
     "output_type": "stream",
     "text": [
      "True\n",
      "True\n"
     ]
    }
   ],
   "source": [
    "#write your code here\n",
    "class E1:\n",
    "    pass\n",
    "class E2:\n",
    "    pass\n",
    "a=E1()\n",
    "b=E2()\n",
    "print(isinstance(a,E1))\n",
    "print(isinstance(b,E2))"
   ]
  },
  {
   "cell_type": "markdown",
   "metadata": {},
   "source": [
    "### The __del__() function"
   ]
  },
  {
   "cell_type": "markdown",
   "metadata": {},
   "source": [
    "- As __init__() function is used to initialize the values of variables. __del__() is used to destroy the class variable\n",
    "- This function is executed only if all the references to an object have been removed\n",
    "- It is like destructor and is executed once per object"
   ]
  },
  {
   "cell_type": "code",
   "execution_count": 24,
   "metadata": {},
   "outputs": [
    {
     "name": "stdout",
     "output_type": "stream",
     "text": [
      "Construct\n"
     ]
    }
   ],
   "source": [
    "class Demo:\n",
    "    def __init__(self):\n",
    "        print(\"Construct\")\n",
    "    def __del__(self):\n",
    "        print(\"Destroy\")\n",
    "        \n",
    "d1=Demo()\n",
    "d2=d1\n",
    "d3=d1\n",
    "del d1\n",
    "del d2\n"
   ]
  },
  {
   "cell_type": "markdown",
   "metadata": {},
   "source": [
    "### Accessibility"
   ]
  },
  {
   "cell_type": "markdown",
   "metadata": {},
   "source": [
    "- By default all attributes and methods are public.\n",
    "- to define private member of a class we add two __ in front of the attribute and method name."
   ]
  },
  {
   "cell_type": "code",
   "execution_count": 25,
   "metadata": {
    "scrolled": true
   },
   "outputs": [
    {
     "name": "stdout",
     "output_type": "stream",
     "text": [
      "Surbhi 17837\n",
      "Surbhi\n"
     ]
    },
    {
     "ename": "AttributeError",
     "evalue": "'Info' object has no attribute '__acc_no'",
     "output_type": "error",
     "traceback": [
      "\u001b[0;31m---------------------------------------------------------------------------\u001b[0m",
      "\u001b[0;31mAttributeError\u001b[0m                            Traceback (most recent call last)",
      "\u001b[0;32m<ipython-input-25-67565f31104d>\u001b[0m in \u001b[0;36m<module>\u001b[0;34m()\u001b[0m\n\u001b[1;32m     11\u001b[0m \u001b[0moi\u001b[0m\u001b[0;34m.\u001b[0m\u001b[0mshow\u001b[0m\u001b[0;34m(\u001b[0m\u001b[0;34m)\u001b[0m\u001b[0;34m\u001b[0m\u001b[0m\n\u001b[1;32m     12\u001b[0m \u001b[0mprint\u001b[0m\u001b[0;34m(\u001b[0m\u001b[0moi\u001b[0m\u001b[0;34m.\u001b[0m\u001b[0m_name\u001b[0m\u001b[0;34m)\u001b[0m    \u001b[0;31m#public member so it is accessiable\u001b[0m\u001b[0;34m\u001b[0m\u001b[0m\n\u001b[0;32m---> 13\u001b[0;31m \u001b[0mprint\u001b[0m\u001b[0;34m(\u001b[0m\u001b[0moi\u001b[0m\u001b[0;34m.\u001b[0m\u001b[0m__acc_no\u001b[0m\u001b[0;34m)\u001b[0m \u001b[0;31m#will show error bcz it is private\u001b[0m\u001b[0;34m\u001b[0m\u001b[0m\n\u001b[0m",
      "\u001b[0;31mAttributeError\u001b[0m: 'Info' object has no attribute '__acc_no'"
     ]
    }
   ],
   "source": [
    "class Info:\n",
    "    def __init__(self, name, acc_no):\n",
    "        self._name=name      #public\n",
    "        self.__acc_no=acc_no   #private attribute of class\n",
    "    def show(self):\n",
    "        print(self._name,self.__acc_no) #within class you can access both public and private members of Info class\n",
    "        \n",
    "name=\"Surbhi\"     \n",
    "acc_no=17837\n",
    "oi=Info(name,acc_no)\n",
    "oi.show()\n",
    "print(oi._name)    #public member so it is accessiable\n",
    "print(oi.__acc_no) #will show error bcz it is private"
   ]
  },
  {
   "cell_type": "code",
   "execution_count": 20,
   "metadata": {
    "scrolled": true
   },
   "outputs": [
    {
     "name": "stdout",
     "output_type": "stream",
     "text": [
      "Surbhi 17837\n",
      "Dr. Shivani\n"
     ]
    },
    {
     "ename": "AttributeError",
     "evalue": "'Info' object has no attribute '_B__acc_no'",
     "output_type": "error",
     "traceback": [
      "\u001b[0;31m---------------------------------------------------------------------------\u001b[0m",
      "\u001b[0;31mAttributeError\u001b[0m                            Traceback (most recent call last)",
      "\u001b[0;32m<ipython-input-20-aef8ec0c6cb6>\u001b[0m in \u001b[0;36m<module>\u001b[0;34m()\u001b[0m\n\u001b[1;32m     17\u001b[0m \u001b[0moi\u001b[0m\u001b[0;34m.\u001b[0m\u001b[0mshow\u001b[0m\u001b[0;34m(\u001b[0m\u001b[0;34m)\u001b[0m\u001b[0;34m\u001b[0m\u001b[0m\n\u001b[1;32m     18\u001b[0m \u001b[0mob\u001b[0m\u001b[0;34m=\u001b[0m\u001b[0mB\u001b[0m\u001b[0;34m(\u001b[0m\u001b[0;34m)\u001b[0m\u001b[0;34m\u001b[0m\u001b[0m\n\u001b[0;32m---> 19\u001b[0;31m \u001b[0mob\u001b[0m\u001b[0;34m.\u001b[0m\u001b[0mdisplay\u001b[0m\u001b[0;34m(\u001b[0m\u001b[0;34m)\u001b[0m\u001b[0;34m\u001b[0m\u001b[0m\n\u001b[0m",
      "\u001b[0;32m<ipython-input-20-aef8ec0c6cb6>\u001b[0m in \u001b[0;36mdisplay\u001b[0;34m(self)\u001b[0m\n\u001b[1;32m     10\u001b[0m         \u001b[0mn\u001b[0m\u001b[0;34m=\u001b[0m\u001b[0mInfo\u001b[0m\u001b[0;34m(\u001b[0m\u001b[0;34m'Dr. Shivani'\u001b[0m\u001b[0;34m,\u001b[0m\u001b[0;34m'18000'\u001b[0m\u001b[0;34m)\u001b[0m\u001b[0;34m\u001b[0m\u001b[0m\n\u001b[1;32m     11\u001b[0m         \u001b[0mprint\u001b[0m\u001b[0;34m(\u001b[0m\u001b[0mn\u001b[0m\u001b[0;34m.\u001b[0m\u001b[0m_name\u001b[0m\u001b[0;34m)\u001b[0m\u001b[0;34m\u001b[0m\u001b[0m\n\u001b[0;32m---> 12\u001b[0;31m         \u001b[0mprint\u001b[0m\u001b[0;34m(\u001b[0m\u001b[0mn\u001b[0m\u001b[0;34m.\u001b[0m\u001b[0m__acc_no\u001b[0m\u001b[0;34m)\u001b[0m\u001b[0;31m#show error bcz private member of a class also not ccessiable in another class\u001b[0m\u001b[0;34m\u001b[0m\u001b[0m\n\u001b[0m\u001b[1;32m     13\u001b[0m \u001b[0;34m\u001b[0m\u001b[0m\n\u001b[1;32m     14\u001b[0m \u001b[0mname\u001b[0m\u001b[0;34m=\u001b[0m\u001b[0;34m\"Surbhi\"\u001b[0m\u001b[0;34m\u001b[0m\u001b[0m\n",
      "\u001b[0;31mAttributeError\u001b[0m: 'Info' object has no attribute '_B__acc_no'"
     ]
    }
   ],
   "source": [
    "class Info:\n",
    "    def __init__(self, name, acc_no):\n",
    "        self._name=name      #public\n",
    "        self.__acc_no=acc_no   #private attribute of class\n",
    "    def show(self):\n",
    "        print(self._name,self.__acc_no) #within class you can access both public and private members of Info class\n",
    "\n",
    "class B:\n",
    "    def display(self):\n",
    "        n=Info('Dr. Shivani','18000')\n",
    "        print(n._name)\n",
    "        print(n.__acc_no)#show error bcz private member of a class also not ccessiable in another class\n",
    "                \n",
    "name=\"Surbhi\"    \n",
    "acc_no=17837    \n",
    "oi=Info(name,acc_no)\n",
    "oi.show()\n",
    "ob=B()\n",
    "ob.display()"
   ]
  },
  {
   "cell_type": "markdown",
   "metadata": {},
   "source": [
    "### 6 Write a program for following:\n",
    "- create a class \"Employee\" that has attributes name, id, post, passward and account_number. Keep pass and account no private.\n",
    "- Define method \"show_public\" that shows public information like name, post and id\n",
    "- Define method \"show_private\" that shows private information like passward and account_no\n",
    "- Take details from user, create object of employee and show the details using defined functions"
   ]
  },
  {
   "cell_type": "code",
   "execution_count": 28,
   "metadata": {
    "scrolled": true
   },
   "outputs": [
    {
     "name": "stdout",
     "output_type": "stream",
     "text": [
      "Enter name:tejas parikh\n",
      "Enter Id:43343\n",
      "Enter post:dbjhcbdsfd\n",
      "Enter password:45859\n",
      "Enter account number:324324\n"
     ]
    },
    {
     "ename": "AttributeError",
     "evalue": "'Employee' object has no attribute 'public'",
     "output_type": "error",
     "traceback": [
      "\u001b[0;31m---------------------------------------------------------------------------\u001b[0m",
      "\u001b[0;31mAttributeError\u001b[0m                            Traceback (most recent call last)",
      "\u001b[0;32m<ipython-input-28-850168985c6e>\u001b[0m in \u001b[0;36m<module>\u001b[0;34m()\u001b[0m\n\u001b[1;32m     20\u001b[0m \u001b[0macc_no\u001b[0m\u001b[0;34m=\u001b[0m\u001b[0minput\u001b[0m\u001b[0;34m(\u001b[0m\u001b[0;34m'Enter account number:'\u001b[0m\u001b[0;34m)\u001b[0m\u001b[0;34m\u001b[0m\u001b[0m\n\u001b[1;32m     21\u001b[0m \u001b[0me1\u001b[0m\u001b[0;34m=\u001b[0m\u001b[0mEmployee\u001b[0m\u001b[0;34m(\u001b[0m\u001b[0mname\u001b[0m\u001b[0;34m,\u001b[0m\u001b[0mId\u001b[0m\u001b[0;34m,\u001b[0m\u001b[0mpost\u001b[0m\u001b[0;34m,\u001b[0m\u001b[0mpassword\u001b[0m\u001b[0;34m,\u001b[0m\u001b[0macc_no\u001b[0m\u001b[0;34m)\u001b[0m\u001b[0;34m\u001b[0m\u001b[0m\n\u001b[0;32m---> 22\u001b[0;31m \u001b[0me1\u001b[0m\u001b[0;34m.\u001b[0m\u001b[0mpublic\u001b[0m\u001b[0;34m(\u001b[0m\u001b[0;34m)\u001b[0m\u001b[0;34m\u001b[0m\u001b[0m\n\u001b[0m\u001b[1;32m     23\u001b[0m \u001b[0me1\u001b[0m\u001b[0;34m.\u001b[0m\u001b[0mprivate\u001b[0m\u001b[0;34m(\u001b[0m\u001b[0;34m)\u001b[0m\u001b[0;34m\u001b[0m\u001b[0m\n",
      "\u001b[0;31mAttributeError\u001b[0m: 'Employee' object has no attribute 'public'"
     ]
    }
   ],
   "source": [
    "#write your code here\n",
    "class Employee:\n",
    "    def __init__(self,name,Id,post,password,acc_no):\n",
    "        self._name=name\n",
    "        self._post=post\n",
    "        self._Id=Id\n",
    "        self.__password=password\n",
    "        self.__acc_no=acc_no\n",
    "    def show_public(self):\n",
    "        print('Name',name)\n",
    "        print('Post',post)\n",
    "        print('ID',Id)\n",
    "    def private(self):\n",
    "        print('Password',password)\n",
    "        print('Account number',acc_no)\n",
    "name=input('Enter name:')\n",
    "Id = input('Enter Id:')\n",
    "post=input('Enter post:')\n",
    "password=input('Enter password:')\n",
    "acc_no=input('Enter account number:')\n",
    "e1=Employee(name,Id,post,password,acc_no)\n",
    "e1.public()\n",
    "e1.private()   "
   ]
  },
  {
   "cell_type": "markdown",
   "metadata": {},
   "source": [
    "### 7 Write a program for same as above question but takes details of two or more employees store their objects in list and show their details in the end"
   ]
  },
  {
   "cell_type": "code",
   "execution_count": 29,
   "metadata": {},
   "outputs": [
    {
     "name": "stdout",
     "output_type": "stream",
     "text": [
      "Enter name:tejas parikh \n",
      "Enter id:7374\n",
      "Enter post:dbcb\n",
      "Enter password:dbjxbvx\n",
      "Enter account number:342342\n",
      "Name is tejas parikh \n",
      "Post: dbcb\n",
      "ID is 7374\n",
      "Password is dbjxbvx\n",
      "Account number is 342342 \n",
      "\n",
      "Enter name:vasu gupta \n",
      "Enter id:332\n",
      "Enter post:fdbf\n",
      "Enter password:45345\n",
      "Enter account number:dbfkdj\n",
      "Name is vasu gupta \n",
      "Post: fdbf\n",
      "ID is 332\n",
      "Password is 45345\n",
      "Account number is dbfkdj \n",
      "\n"
     ]
    }
   ],
   "source": [
    "#write your code here\n",
    "#write your code here\n",
    "class Employee:\n",
    "    def __init__(self,name,Id,post,password,acc_no):\n",
    "        self._name=name\n",
    "        self._post=post\n",
    "        self._Id=Id\n",
    "        self.__password=password\n",
    "        self.__acc_no=acc_no\n",
    "    def public(self):\n",
    "        print('Name is',name)\n",
    "        print('Post:',post)\n",
    "        print('ID is',idd)\n",
    "    def private(self):\n",
    "        print('Password is',password)\n",
    "        print('Account number is',acc_no,'\\n')\n",
    "for i in range(2):\n",
    "    name=input('Enter name:')\n",
    "    idd = input('Enter id:')\n",
    "    post=input('Enter post:')\n",
    "    password=input('Enter password:')\n",
    "    acc_no=input('Enter account number:')\n",
    "    ei=Employee(name,Id,post,password,acc_no)\n",
    "    ei.public()\n",
    "    ei.private()   "
   ]
  },
  {
   "cell_type": "markdown",
   "metadata": {},
   "source": [
    "### 8 Write a program for following:\n",
    "- Create a class \"Credit_card\" that has id, private attributes( card_no and PIN ), a method \"show\" to show the card details\n",
    "- Create a class \"Person\" that has attribute id, name and an object of credit card class and a method \"show\" to show id and name information.\n",
    "- crerate object of person and show complete details"
   ]
  },
  {
   "cell_type": "code",
   "execution_count": null,
   "metadata": {},
   "outputs": [],
   "source": [
    "#write your code here\n",
    "#write your code here\n",
    "class Credit Card:\n",
    "    def __init__(self,name,Id,post,password,acc_no):\n",
    "        self._name=name\n",
    "        self._post=post\n",
    "        self._Id=Id\n",
    "        self.__password=password\n",
    "        self.__acc_no=acc_no\n",
    "    def public(self):\n",
    "        print('Name is',name)\n",
    "        print('Post:',post)\n",
    "        print('ID is',idd)\n",
    "    def private(self):\n",
    "        print('Password is',password)\n",
    "        print('Account number is',acc_no,'\\n')\n",
    "for i in range(2):\n",
    "    name=input('Enter name:')\n",
    "    idd = input('Enter id:')\n",
    "    post=input('Enter post:')\n",
    "    password=input('Enter password:')\n",
    "    acc_no=input('Enter account number:')\n",
    "    ei=Employee(name,Id,post,password,acc_no)\n",
    "    ei.public()\n",
    "    ei.private()   "
   ]
  },
  {
   "cell_type": "markdown",
   "metadata": {},
   "source": [
    "## Optional"
   ]
  },
  {
   "cell_type": "markdown",
   "metadata": {},
   "source": [
    "### 9 Write a program for following:\n",
    "- Create a Time class and initialize it with hours and minutes.\n",
    "- Make a method addTime which should take two time object and add them. E.g.- (2 hour and 50 min)+(1 hr and 20 min) is (4 hr and 10 min)\n",
    "- Make a method displayTime which should print the time.\n",
    "- Make a method DisplayMinute which should display the total minutes in the Time. E.g.- (1 hr 2 min) should display 62 minute."
   ]
  },
  {
   "cell_type": "code",
   "execution_count": null,
   "metadata": {},
   "outputs": [],
   "source": [
    "#write your code here"
   ]
  },
  {
   "cell_type": "markdown",
   "metadata": {},
   "source": [
    "### 10 Write a program for following:\n",
    "- Create a class \"Die\" that has attribut \"value\" and method roll that sets \"value\" between 1 and 6 (both inclusive) and returns this value. \n",
    "- Create class \"Player\" with name attribute and it has two dies (attributes) and play method to roll the dies and calculate sum of both dies.\n",
    "- Create two players. let them play and decide who win"
   ]
  },
  {
   "cell_type": "code",
   "execution_count": null,
   "metadata": {},
   "outputs": [],
   "source": [
    "#write your code here"
   ]
  }
 ],
 "metadata": {
  "kernelspec": {
   "display_name": "Python 3",
   "language": "python",
   "name": "python3"
  },
  "language_info": {
   "codemirror_mode": {
    "name": "ipython",
    "version": 3
   },
   "file_extension": ".py",
   "mimetype": "text/x-python",
   "name": "python",
   "nbconvert_exporter": "python",
   "pygments_lexer": "ipython3",
   "version": "3.6.5"
  }
 },
 "nbformat": 4,
 "nbformat_minor": 2
}
